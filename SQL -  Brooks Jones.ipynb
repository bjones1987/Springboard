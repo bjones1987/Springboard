{
 "cells": [
  {
   "cell_type": "code",
   "execution_count": 1,
   "id": "d2bfe4ef",
   "metadata": {},
   "outputs": [
    {
     "name": "stdout",
     "output_type": "stream",
     "text": [
      "2.6.0\n",
      "2. Query all tasks\n",
      "(0, 'Tennis Court 1', 5, 25, 10000, 200)\n",
      "(1, 'Tennis Court 2', 5, 25, 8000, 200)\n",
      "(2, 'Badminton Court', 0, 15.5, 4000, 50)\n",
      "(3, 'Table Tennis', 0, 5, 320, 10)\n",
      "(4, 'Massage Room 1', 9.9, 80, 4000, 3000)\n",
      "(5, 'Massage Room 2', 9.9, 80, 4000, 3000)\n",
      "(6, 'Squash Court', 3.5, 17.5, 5000, 80)\n",
      "(7, 'Snooker Table', 0, 5, 450, 15)\n",
      "(8, 'Pool Table', 0, 5, 400, 15)\n"
     ]
    }
   ],
   "source": [
    "import sqlite3\n",
    "from sqlite3 import Error\n",
    "\n",
    " \n",
    "def create_connection(db_file):\n",
    "    \"\"\" create a database connection to the SQLite database\n",
    "        specified by the db_file\n",
    "    :param db_file: database file\n",
    "    :return: Connection object or None\n",
    "    \"\"\"\n",
    "    conn = None\n",
    "    try:\n",
    "        conn = sqlite3.connect(db_file)\n",
    "        print(sqlite3.version)\n",
    "    except Error as e:\n",
    "        print(e)\n",
    " \n",
    "    return conn\n",
    "\n",
    " \n",
    "def select_all_tasks(conn):\n",
    "    \"\"\"\n",
    "    Query all rows in the tasks table\n",
    "    :param conn: the Connection object\n",
    "    :return:\n",
    "    \"\"\"\n",
    "    cur = conn.cursor()\n",
    "    \n",
    "    query1 = \"\"\"\n",
    "        SELECT *\n",
    "        FROM FACILITIES\n",
    "        \"\"\"\n",
    "    cur.execute(query1)\n",
    " \n",
    "    rows = cur.fetchall()\n",
    " \n",
    "    for row in rows:\n",
    "        print(row)\n",
    "\n",
    "\n",
    "def main():\n",
    "    database = \"sqlite_db_pythonsqlite.db\"\n",
    " \n",
    "    # create a database connection\n",
    "    conn = create_connection(database)\n",
    "    with conn: \n",
    "        print(\"2. Query all tasks\")\n",
    "        select_all_tasks(conn)\n",
    " \n",
    " \n",
    "if __name__ == '__main__':\n",
    "    main()"
   ]
  },
  {
   "cell_type": "code",
   "execution_count": null,
   "id": "4761c942",
   "metadata": {},
   "outputs": [],
   "source": [
    "#Q1: Some of the facilities charge a fee to members, but some do not.\n",
    "#Write a SQL query to produce a list of the names of the facilities that do."
   ]
  },
  {
   "cell_type": "code",
   "execution_count": null,
   "id": "2bf08c30",
   "metadata": {},
   "outputs": [],
   "source": [
    "SELECT membercost\n",
    "FROM Facilities\n",
    "WHERE membercost > 0;"
   ]
  },
  {
   "cell_type": "code",
   "execution_count": null,
   "id": "2209d63e",
   "metadata": {},
   "outputs": [],
   "source": [
    "#Q2: How many facilities do not charge a fee to members?"
   ]
  },
  {
   "cell_type": "code",
   "execution_count": null,
   "id": "007b7542",
   "metadata": {},
   "outputs": [],
   "source": [
    "SELECT COUNT(membercost < 0)\n",
    "FROM Facilities"
   ]
  },
  {
   "cell_type": "code",
   "execution_count": null,
   "id": "7366dde8",
   "metadata": {},
   "outputs": [],
   "source": [
    "#Q3: Write an SQL query to show a list of facilities that charge a fee to members, where the fee is less than 20% of the facility's monthly maintenance cost.\n",
    "#Return the facid, facility name, member cost, and monthly maintenance of the facilities in question."
   ]
  },
  {
   "cell_type": "code",
   "execution_count": null,
   "id": "79d91da6",
   "metadata": {},
   "outputs": [],
   "source": [
    "SELECT facid, name, membercost, monthlymaintenance\n",
    "FROM Facilities\n",
    "WHERE membercost < .2 * monthlymaintenance;"
   ]
  },
  {
   "cell_type": "code",
   "execution_count": null,
   "id": "a8345c49",
   "metadata": {},
   "outputs": [],
   "source": [
    "#Q4: Write an SQL query to retrieve the details of facilities with ID 1 and 5.\n",
    "#Try writing the query without using the OR operator."
   ]
  },
  {
   "cell_type": "code",
   "execution_count": null,
   "id": "fe89e300",
   "metadata": {},
   "outputs": [],
   "source": [
    "SELECT *\n",
    "FROM Facilities\n",
    "WHERE facid IN (1, 5);"
   ]
  },
  {
   "cell_type": "code",
   "execution_count": null,
   "id": "6d60c4ba",
   "metadata": {},
   "outputs": [],
   "source": [
    "#Q5: Produce a list of facilities, with each labelled as'cheap' or 'expensive', depending on if their monthly maintenance cost is more than $100. \n",
    "#Return the name and monthly maintenance of the facilities in question."
   ]
  },
  {
   "cell_type": "code",
   "execution_count": null,
   "id": "c2b62c37",
   "metadata": {},
   "outputs": [],
   "source": [
    "SELECT name, monthlymaintenance, CASE WHEN monthlymaintenance > 100 THEN 'expensive'\n",
    "ELSE 'cheap' END AS cost\n",
    "FROM Facilities"
   ]
  },
  {
   "cell_type": "code",
   "execution_count": null,
   "id": "f91c061d",
   "metadata": {},
   "outputs": [],
   "source": [
    "#Q6: You'd like to get the first and last name of the last member(s) who signed up. \n",
    "#Try not to use the LIMIT clause for your solution."
   ]
  },
  {
   "cell_type": "code",
   "execution_count": null,
   "id": "1b1c2098",
   "metadata": {},
   "outputs": [],
   "source": [
    "SELECT firstname, surname, MAX(joindate)\n",
    "FROM Members"
   ]
  },
  {
   "cell_type": "code",
   "execution_count": null,
   "id": "f303c9d2",
   "metadata": {},
   "outputs": [],
   "source": [
    "#Q7: Produce a list of all members who have used a tennis court.\n",
    "#Include in your output the name of the court, and the name of the member formatted as a single column. \n",
    "#Ensure no duplicate data, and order by the member name."
   ]
  },
  {
   "cell_type": "code",
   "execution_count": null,
   "id": "274d559a",
   "metadata": {},
   "outputs": [],
   "source": [
    "SELECT DISTINCT ( CONCAT( `firstname` , ' ', `surname` )) AS MemberName, f.name \n",
    "FROM Members AS m \n",
    "INNER JOIN Bookings AS b \n",
    "ON m.memid = b.memid \n",
    "INNER JOIN Facilities AS f \n",
    "ON b.facid = f.facid \n",
    "WHERE f.name LIKE '%ennis Cou%' \n",
    "ORDER BY MemberName;"
   ]
  },
  {
   "cell_type": "code",
   "execution_count": null,
   "id": "721e2326",
   "metadata": {},
   "outputs": [],
   "source": [
    "#Q8: Produce a list of bookings on the day of 2012-09-14 which will cost the member (or guest) more than $30. \n",
    "#Remember that guests have different costs to members (the listed costs are per half-hour 'slot'), and the guest user's ID is always 0. #Include in your output the name of the facility, the name of the member formatted as a single column, and the cost.\n",
    "#Order by descending cost, and do not use any subqueries."
   ]
  },
  {
   "cell_type": "code",
   "execution_count": null,
   "id": "1f26aec8",
   "metadata": {},
   "outputs": [],
   "source": [
    "SELECT f.name AS FacilityName, CONCAT( m.firstname, ' ', m.surname ) AS MemberName, CASE WHEN f.guestcost * b.slots >30 THEN f.guestcost * b.slots \n",
    "WHEN f.membercost * b.slots >30 THEN f.membercost * b.slots \n",
    "END AS cost FROM Facilities AS f \n",
    "INNER JOIN Bookings AS b \n",
    "ON f.facid = b.facid \n",
    "INNER JOIN Members AS m ON b.memid = m.memid \n",
    "WHERE b.starttime LIKE '2012-09-14%' AND f.membercost * b.slots >0 AND f.guestcost * b.slots >0 \n",
    "ORDER BY cost DESC;"
   ]
  },
  {
   "cell_type": "code",
   "execution_count": null,
   "id": "a2670fca",
   "metadata": {},
   "outputs": [],
   "source": [
    "#Q9: This time, produce the same result as in Q8, but using a subquery."
   ]
  },
  {
   "cell_type": "code",
   "execution_count": null,
   "id": "ceaf9e36",
   "metadata": {},
   "outputs": [],
   "source": []
  },
  {
   "cell_type": "code",
   "execution_count": null,
   "id": "85380fe2",
   "metadata": {},
   "outputs": [],
   "source": [
    "#Q10: Produce a list of facilities with a total revenue less than 1000.\n",
    "#The output of facility name and total revenue, sorted by revenue. \n",
    "#Remember that there's a different cost for guests and members! "
   ]
  },
  {
   "cell_type": "code",
   "execution_count": null,
   "id": "522a7408",
   "metadata": {},
   "outputs": [],
   "source": [
    "SELECT sub.name, SUM( sub.revenue ) AS revenue\n",
    "FROM (\n",
    "SELECT b.facid, b.memid, f.name, f.guestcost, f.membercost, COUNT( b.facid ) AS facid_count,\n",
    "CASE\n",
    "WHEN b.memid =0\n",
    "THEN COUNT( b.facid ) * f.guestcost\n",
    "ELSE COUNT( b.facid ) * f.membercost\n",
    "END AS 'revenue'\n",
    "FROM Bookings AS b\n",
    "LEFT JOIN Facilities AS f ON b.facid = f.facid\n",
    "GROUP BY b.facid, b.memid\n",
    ") AS sub\n",
    "GROUP BY sub.facid\n",
    "HAVING revenue <=1000;"
   ]
  },
  {
   "cell_type": "code",
   "execution_count": null,
   "id": "de7a35ef",
   "metadata": {},
   "outputs": [],
   "source": [
    "#Q11: Produce a report of members and who recommended them in alphabetic surname,firstname order "
   ]
  },
  {
   "cell_type": "code",
   "execution_count": null,
   "id": "2822622e",
   "metadata": {},
   "outputs": [],
   "source": [
    "SELECT DISTINCT ( CONCAT( `surname` , ' ', `firstname` )) AS member_name, recommendedby\n",
    "FROM Members AS m\n",
    "WHERE recommendedby > 0\n",
    "ORDER BY member_name "
   ]
  },
  {
   "cell_type": "code",
   "execution_count": null,
   "id": "6fc19a29",
   "metadata": {},
   "outputs": [],
   "source": [
    "#Q12: Find the facilities with their usage by member, but not guests"
   ]
  },
  {
   "cell_type": "code",
   "execution_count": null,
   "id": "51c1a9da",
   "metadata": {},
   "outputs": [],
   "source": [
    "SELECT b.facid, COUNT( b.memid ) AS mem_usage, f.name\n",
    "FROM (\n",
    "SELECT facid, memid\n",
    "FROM Bookings\n",
    "WHERE memid !=0\n",
    ") AS b\n",
    "LEFT JOIN Facilities AS f ON b.facid = f.facid\n",
    "GROUP BY b.facid;"
   ]
  },
  {
   "cell_type": "code",
   "execution_count": null,
   "id": "d4b8e541",
   "metadata": {},
   "outputs": [],
   "source": [
    "#Q13: Find the facilities usage by month, but not guests"
   ]
  },
  {
   "cell_type": "code",
   "execution_count": null,
   "id": "16660238",
   "metadata": {},
   "outputs": [],
   "source": [
    "SELECT b.months, COUNT( b.memid ) AS mem_usage\n",
    "FROM (\n",
    "SELECT MONTH( starttime ) AS months, memid\n",
    "FROM Bookings\n",
    "WHERE memid !=0\n",
    ") AS b\n",
    "GROUP BY b.months;"
   ]
  }
 ],
 "metadata": {
  "kernelspec": {
   "display_name": "Python 3 (ipykernel)",
   "language": "python",
   "name": "python3"
  },
  "language_info": {
   "codemirror_mode": {
    "name": "ipython",
    "version": 3
   },
   "file_extension": ".py",
   "mimetype": "text/x-python",
   "name": "python",
   "nbconvert_exporter": "python",
   "pygments_lexer": "ipython3",
   "version": "3.11.5"
  }
 },
 "nbformat": 4,
 "nbformat_minor": 5
}
