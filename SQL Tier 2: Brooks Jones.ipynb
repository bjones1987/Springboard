{
 "cells": [
  {
   "cell_type": "code",
   "execution_count": 1,
   "id": "d2bfe4ef",
   "metadata": {},
   "outputs": [
    {
     "name": "stdout",
     "output_type": "stream",
     "text": [
      "2.6.0\n",
      "2. Query all tasks\n",
      "(0, 'Tennis Court 1', 5, 25, 10000, 200)\n",
      "(1, 'Tennis Court 2', 5, 25, 8000, 200)\n",
      "(2, 'Badminton Court', 0, 15.5, 4000, 50)\n",
      "(3, 'Table Tennis', 0, 5, 320, 10)\n",
      "(4, 'Massage Room 1', 9.9, 80, 4000, 3000)\n",
      "(5, 'Massage Room 2', 9.9, 80, 4000, 3000)\n",
      "(6, 'Squash Court', 3.5, 17.5, 5000, 80)\n",
      "(7, 'Snooker Table', 0, 5, 450, 15)\n",
      "(8, 'Pool Table', 0, 5, 400, 15)\n"
     ]
    }
   ],
   "source": [
    "import sqlite3\n",
    "from sqlite3 import Error\n",
    "\n",
    " \n",
    "def create_connection(db_file):\n",
    "    \"\"\" create a database connection to the SQLite database\n",
    "        specified by the db_file\n",
    "    :param db_file: database file\n",
    "    :return: Connection object or None\n",
    "    \"\"\"\n",
    "    conn = None\n",
    "    try:\n",
    "        conn = sqlite3.connect(db_file)\n",
    "        print(sqlite3.version)\n",
    "    except Error as e:\n",
    "        print(e)\n",
    " \n",
    "    return conn\n",
    "\n",
    " \n",
    "def select_all_tasks(conn):\n",
    "    \"\"\"\n",
    "    Query all rows in the tasks table\n",
    "    :param conn: the Connection object\n",
    "    :return:\n",
    "    \"\"\"\n",
    "    cur = conn.cursor()\n",
    "    \n",
    "    query1 = \"\"\"\n",
    "        SELECT *\n",
    "        FROM FACILITIES\n",
    "        \"\"\"\n",
    "    cur.execute(query1)\n",
    " \n",
    "    rows = cur.fetchall()\n",
    " \n",
    "    for row in rows:\n",
    "        print(row)\n",
    "\n",
    "\n",
    "def main():\n",
    "    database = \"sqlite_db_pythonsqlite.db\"\n",
    " \n",
    "    # create a database connection\n",
    "    conn = create_connection(database)\n",
    "    with conn: \n",
    "        print(\"2. Query all tasks\")\n",
    "        select_all_tasks(conn)\n",
    " \n",
    " \n",
    "if __name__ == '__main__':\n",
    "    main()"
   ]
  },
  {
   "cell_type": "code",
   "execution_count": null,
   "id": "85380fe2",
   "metadata": {},
   "outputs": [],
   "source": [
    "#Q10: Produce a list of facilities with a total revenue less than 1000.\n",
    "#The output of facility name and total revenue, sorted by revenue. \n",
    "#Remember that there's a different cost for guests and members! "
   ]
  },
  {
   "cell_type": "code",
   "execution_count": null,
   "id": "522a7408",
   "metadata": {},
   "outputs": [],
   "source": [
    "SELECT sub.name, SUM( sub.revenue ) AS revenue\n",
    "FROM (\n",
    "SELECT b.facid, b.memid, f.name, f.guestcost, f.membercost, COUNT( b.facid ) AS facid_count,\n",
    "CASE\n",
    "WHEN b.memid =0\n",
    "THEN COUNT( b.facid ) * f.guestcost\n",
    "ELSE COUNT( b.facid ) * f.membercost\n",
    "END AS 'revenue'\n",
    "FROM Bookings AS b\n",
    "LEFT JOIN Facilities AS f ON b.facid = f.facid\n",
    "GROUP BY b.facid, b.memid\n",
    ") AS sub\n",
    "GROUP BY sub.facid\n",
    "HAVING revenue <=1000;"
   ]
  },
  {
   "cell_type": "code",
   "execution_count": null,
   "id": "de7a35ef",
   "metadata": {},
   "outputs": [],
   "source": [
    "#Q11: Produce a report of members and who recommended them in alphabetic surname,firstname order "
   ]
  },
  {
   "cell_type": "code",
   "execution_count": null,
   "id": "2822622e",
   "metadata": {},
   "outputs": [],
   "source": [
    "SELECT DISTINCT ( CONCAT( `surname` , ' ', `firstname` )) AS member_name, recommendedby\n",
    "FROM Members AS m\n",
    "WHERE recommendedby > 0\n",
    "ORDER BY member_name "
   ]
  },
  {
   "cell_type": "code",
   "execution_count": null,
   "id": "6fc19a29",
   "metadata": {},
   "outputs": [],
   "source": [
    "#Q12: Find the facilities with their usage by member, but not guests"
   ]
  },
  {
   "cell_type": "code",
   "execution_count": null,
   "id": "51c1a9da",
   "metadata": {},
   "outputs": [],
   "source": [
    "SELECT b.facid, COUNT( b.memid ) AS mem_usage, f.name\n",
    "FROM (\n",
    "SELECT facid, memid\n",
    "FROM Bookings\n",
    "WHERE memid !=0\n",
    ") AS b\n",
    "LEFT JOIN Facilities AS f ON b.facid = f.facid\n",
    "GROUP BY b.facid;"
   ]
  },
  {
   "cell_type": "code",
   "execution_count": null,
   "id": "d4b8e541",
   "metadata": {},
   "outputs": [],
   "source": [
    "#Q13: Find the facilities usage by month, but not guests"
   ]
  },
  {
   "cell_type": "code",
   "execution_count": null,
   "id": "16660238",
   "metadata": {},
   "outputs": [],
   "source": [
    "SELECT b.months, COUNT( b.memid ) AS mem_usage\n",
    "FROM (\n",
    "SELECT MONTH( starttime ) AS months, memid\n",
    "FROM Bookings\n",
    "WHERE memid !=0\n",
    ") AS b\n",
    "GROUP BY b.months;"
   ]
  }
 ],
 "metadata": {
  "kernelspec": {
   "display_name": "Python 3 (ipykernel)",
   "language": "python",
   "name": "python3"
  },
  "language_info": {
   "codemirror_mode": {
    "name": "ipython",
    "version": 3
   },
   "file_extension": ".py",
   "mimetype": "text/x-python",
   "name": "python",
   "nbconvert_exporter": "python",
   "pygments_lexer": "ipython3",
   "version": "3.11.5"
  }
 },
 "nbformat": 4,
 "nbformat_minor": 5
}
